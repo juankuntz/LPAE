{
 "cells": [
  {
   "cell_type": "markdown",
   "metadata": {
    "colab_type": "text",
    "id": "view-in-github"
   },
   "source": [
    "<a href=\"https://colab.research.google.com/github/juankuntz/LPAE/blob/master/notebooks/MNIST_tutorial.ipynb\" target=\"_parent\"><img src=\"https://colab.research.google.com/assets/colab-badge.svg\" alt=\"Open In Colab\"/></a>"
   ]
  },
  {
   "cell_type": "markdown",
   "metadata": {
    "id": "fHDyngpmvokx"
   },
   "source": [
    "In this notebook, we fit an LPAE to the MNIST dataset. For more info on the model and training procedure, see [here](https://lpae.readthedocs.io/en/latest/).\n",
    "\n",
    "**Note**: The notebook runs significantly faster on a GPU (on Colab, select from the top bar Runtime -> \n",
    "Change runtime type -> accelerator -> GPU)."
   ]
  },
  {
   "cell_type": "markdown",
   "metadata": {
    "id": "Or0yIPwm9yvp"
   },
   "source": [
    "# Setup"
   ]
  },
  {
   "cell_type": "markdown",
   "metadata": {
    "id": "xXYViKkhOhYp"
   },
   "source": [
    "Are you running this notebook on Colab or locally? In the former case, set the following COLAB parameter to true, in the latter, set it to false and specify the path to the repository."
   ]
  },
  {
   "cell_type": "code",
   "execution_count": 1,
   "metadata": {
    "id": "lpU-z-ttOhYq"
   },
   "outputs": [],
   "source": [
    "COLAB = False"
   ]
  },
  {
   "cell_type": "code",
   "execution_count": 2,
   "metadata": {
    "id": "1mXClokCOhYs"
   },
   "outputs": [],
   "source": [
    "import os\n",
    "\n",
    "# Specify path (the following command does the trick if\n",
    "# you launched jupyter-lab from the notebook's directory).\n",
    "REPOSITORY_PATH = os.path.dirname(os.getcwd())"
   ]
  },
  {
   "cell_type": "markdown",
   "metadata": {
    "id": "fjtSOGZ0OhYs"
   },
   "source": [
    "If running on Colab, we need to download the respository:"
   ]
  },
  {
   "cell_type": "code",
   "execution_count": 3,
   "metadata": {
    "id": "vdErxQliOhYt"
   },
   "outputs": [],
   "source": [
    "%%capture\n",
    "\n",
    "if COLAB:\n",
    "    # Mount gdrive:\n",
    "    from google.colab import drive\n",
    "    drive.mount(\"/content/gdrive\", force_remount=False) \n",
    "    \n",
    "    # Load the repository:\n",
    "    import sys\n",
    "    !rm -rf LPAE\n",
    "    REPOSITORY_PATH = '/content/lpae'\n",
    "    !git clone https://github.com/juankuntz/LPAE.git $REPOSITORY_PATH"
   ]
  },
  {
   "cell_type": "markdown",
   "metadata": {
    "id": "Z3siwsI5OhYv"
   },
   "source": [
    "In either case, we need the following modules:"
   ]
  },
  {
   "cell_type": "code",
   "execution_count": 4,
   "metadata": {
    "id": "EIUIJGEuOhYw"
   },
   "outputs": [
    {
     "name": "stderr",
     "output_type": "stream",
     "text": [
      "2023-04-23 08:39:29.776805: I tensorflow/tsl/cuda/cudart_stub.cc:28] Could not find cuda drivers on your machine, GPU will not be used.\n",
      "2023-04-23 08:39:29.818434: I tensorflow/tsl/cuda/cudart_stub.cc:28] Could not find cuda drivers on your machine, GPU will not be used.\n",
      "2023-04-23 08:39:29.819894: I tensorflow/core/platform/cpu_feature_guard.cc:182] This TensorFlow binary is optimized to use available CPU instructions in performance-critical operations.\n",
      "To enable the following instructions: AVX2 FMA, in other operations, rebuild TensorFlow with the appropriate compiler flags.\n",
      "2023-04-23 08:39:30.677782: W tensorflow/compiler/tf2tensorrt/utils/py_utils.cc:38] TF-TRT Warning: Could not find TensorRT\n"
     ]
    }
   ],
   "source": [
    "import tensorflow as tf\n",
    "import numpy as np\n",
    "import matplotlib.pyplot as plt\n",
    "import math\n",
    "from tensorflow.keras.layers import Conv2DTranspose, Dense, Reshape, Input, Average, Rescaling, Flatten\n",
    "from tensorflow.keras import Sequential, Model\n",
    "from tensorflow.keras.callbacks import EarlyStopping\n",
    "from tensorflow.keras.optimizers import RMSprop\n",
    "from tensorflow.keras.losses import SparseCategoricalCrossentropy\n",
    "import seaborn as sns\n",
    "import pandas as pd\n",
    "from sklearn.decomposition import PCA\n",
    "from sklearn.mixture import GaussianMixture"
   ]
  },
  {
   "cell_type": "markdown",
   "metadata": {
    "id": "s9qsuMYnOhYy"
   },
   "source": [
    "Lastly, we add the repository to the system's path and load the LPAE object:"
   ]
  },
  {
   "cell_type": "code",
   "execution_count": 5,
   "metadata": {
    "id": "KeHz28zdOhYz"
   },
   "outputs": [],
   "source": [
    "import sys\n",
    "\n",
    "# Add repository to system path:\n",
    "if REPOSITORY_PATH not in sys.path:\n",
    "    sys.path.append(REPOSITORY_PATH)\n",
    "\n",
    "# Import the LPAE object:\n",
    "from src.autoencoders import LPAE"
   ]
  },
  {
   "cell_type": "markdown",
   "metadata": {
    "id": "kO9dBSds0BT_"
   },
   "source": [
    "# Model definition and training\n",
    "\n",
    "**Training data**: Let's fetch $10,000$ MNIST images to train our model with (we also fetch another $1000$ for testing):"
   ]
  },
  {
   "cell_type": "code",
   "execution_count": 6,
   "metadata": {
    "id": "wtJ1ust_0MTN"
   },
   "outputs": [],
   "source": [
    "(x, y), (x_test, y_test) = tf.keras.datasets.mnist.load_data()\n",
    "x, y = tf.constant(x[:10000].astype('float32')[..., np.newaxis]), y[:10000]\n",
    "x_test, y_test = tf.constant(x_test[:1000].astype('float32')[..., np.newaxis]), y_test[:1000]\n",
    "data = tf.data.Dataset.from_tensor_slices(x)"
   ]
  },
  {
   "cell_type": "markdown",
   "metadata": {
    "id": "NxA7tM89-O5M"
   },
   "source": [
    "Let's check that these are what we expect:"
   ]
  },
  {
   "cell_type": "code",
   "execution_count": 7,
   "metadata": {
    "cellView": "form",
    "id": "eAFwbKBx-WiC"
   },
   "outputs": [],
   "source": [
    "#@title Definition of plot_images()\n",
    "def plot_images(image_batch: tf.Tensor, names: list[str] = None) -> None:\n",
    "    \"\"\"\n",
    "    Plots batch of images.\n",
    "\n",
    "    Parameters\n",
    "    ----------\n",
    "    image_batch: tf.Tensor with dimensions (batch_size, 28, 28, 1)\n",
    "        Batch of images.\n",
    "    names: list[str] or None\n",
    "        Corresponding list of names.\n",
    "    \"\"\"\n",
    "    images = [image_batch[i, ...].numpy()[..., 0] \n",
    "            for i in range(image_batch.shape[0])]\n",
    "    if not names:\n",
    "        names = ['' for _ in images]\n",
    "    grid_size = math.ceil(len(images) ** (1/2))\n",
    "    for i, (image, name) in enumerate(zip(images, names)):\n",
    "        ax = plt.subplot(grid_size, grid_size, i + 1)\n",
    "        ax.set_title(name)\n",
    "        plt.imshow(255 - image.astype(\"uint8\"), cmap='Greys')\n",
    "        plt.axis(\"off\")\n",
    "    plt.gcf().tight_layout()    \n",
    "    plt.show()"
   ]
  },
  {
   "cell_type": "code",
   "execution_count": 8,
   "metadata": {
    "colab": {
     "base_uri": "https://localhost:8080/",
     "height": 486
    },
    "id": "RmFARIT9-h86",
    "outputId": "66d793ff-3951-4c37-b260-2cd0cb30cdfe"
   },
   "outputs": [
    {
     "data": {
      "image/png": "[encoded data removed]",
      "text/plain": [
       "<Figure size 640x480 with 9 Axes>"
      ]
     },
     "metadata": {},
     "output_type": "display_data"
    }
   ],
   "source": [
    "# Plot first nine images:\n",
    "plot_images(x[:9], [f'Image {i+1}' for i in range(9)])"
   ]
  },
  {
   "cell_type": "markdown",
   "metadata": {
    "id": "WyZLJeu81nUB"
   },
   "source": [
    "**Model definition**: To define the model, we need to choose the latent space's dimension and then define a decoder mapping from this space to the data space ($\\mathbb{R}^{28\\times28}$ as we are dealing with $28\\times 28$ greyscale images). Let's try $2$ for the dimension and the simple convolutional decoder used in [this keras VAE tutorial](https://keras.io/examples/generative/vae/):"
   ]
  },
  {
   "cell_type": "code",
   "execution_count": 9,
   "metadata": {
    "colab": {
     "base_uri": "https://localhost:8080/",
     "height": 680
    },
    "id": "pM2tm7BM1xVA",
    "outputId": "f83f77e2-fb1b-4fec-e45c-8dfe172ccc2b"
   },
   "outputs": [
    {
     "name": "stdout",
     "output_type": "stream",
     "text": [
      "                    Decoder with 159169 parameters\n",
      "===================================================================\n"
     ]
    },
    {
     "data": {
      "image/png": "[encoded data removed]",
      "text/plain": [
       "<IPython.core.display.Image object>"
      ]
     },
     "execution_count": 9,
     "metadata": {},
     "output_type": "execute_result"
    }
   ],
   "source": [
    "latent_dimensions = 32  \n",
    "decoder = Sequential([Dense(7 * 7 * 64, activation=\"relu\",\n",
    "                             input_shape=(latent_dimensions,)),\n",
    "                       Reshape((7, 7, 64)),\n",
    "                       Conv2DTranspose(64, 3, activation=\"relu\", strides=2,\n",
    "                                       padding=\"same\"),\n",
    "                       Conv2DTranspose(32, 3, activation=\"relu\", strides=2,\n",
    "                                       padding=\"same\"),\n",
    "                       Conv2DTranspose(1, 3, activation=\"sigmoid\",\n",
    "                                       padding=\"same\")\n",
    "                       ], name='decoder')\n",
    "\n",
    "n_parameters = np.sum([np.prod(v.get_shape().as_list()) for v in decoder.trainable_variables])\n",
    "print(f'                    Decoder with {n_parameters} parameters')\n",
    "print('===================================================================')\n",
    "tf.keras.utils.plot_model(decoder, show_shapes=True, show_layer_activations=True)"
   ]
  },
  {
   "cell_type": "markdown",
   "metadata": {
    "id": "OvzO8vz12HYN"
   },
   "source": [
    "We can now define the entire model:"
   ]
  },
  {
   "cell_type": "code",
   "execution_count": 10,
   "metadata": {
    "id": "MYsPFRiN9b9I"
   },
   "outputs": [],
   "source": [
    "model = LPAE(latent_dimensions=latent_dimensions, decoder=decoder, observation_noise_std=1e-2)"
   ]
  },
  {
   "cell_type": "markdown",
   "metadata": {
    "id": "cFJGPKka2pu3"
   },
   "source": [
    "**Training**: Training entails optimizing over the parameters $\\theta$ of the decoder. To do so, we use:\n",
    "- $10$ particles,\n",
    "- a learning rate of $0.0005$ for the latent variable updates,\n",
    "- and an RMSProp optimizer for the decoders parameter updates.\n",
    "\n",
    "The decoder's final layer uses a sigmoid activation function, and, so, maps to $[0,1]^{28\\times28}$. Hence, we ought to normalize the images so that the lie in $[0,1]^{28\\times28}$. We can get the model to handle this internally for us by feeding it to appropiate  `preprocessor` and `postprocessor` layers (the former normalizes, the latter unnormalizes, and both must be [keras preprocessing layers](https://www.tensorflow.org/guide/keras/preprocessing_layers)). We have all we need to configure the training:"
   ]
  },
  {
   "cell_type": "code",
   "execution_count": 11,
   "metadata": {
    "id": "dPYGQCY12nOa"
   },
   "outputs": [],
   "source": [
    "n_particles = 10\n",
    "model.compile(lv_learning_rate=5e-4, n_particles=n_particles,\n",
    "              optimizer=RMSprop(),\n",
    "              preprocessor=Rescaling(scale=1./255),\n",
    "              postprocessor=Rescaling(scale=255.))"
   ]
  },
  {
   "cell_type": "markdown",
   "metadata": {
    "id": "B06h-Ey15Uj0"
   },
   "source": [
    "We can now train the model by calling its fit method, passing in the data, the number of epochs we want it to train for, and the batch size we'd like it to use:"
   ]
  },
  {
   "cell_type": "code",
   "execution_count": 12,
   "metadata": {
    "colab": {
     "base_uri": "https://localhost:8080/"
    },
    "id": "qaXIVf7yz6B5",
    "outputId": "85187f8a-b181-4f6a-fa10-4bbd4a087b53"
   },
   "outputs": [
    {
     "name": "stdout",
     "output_type": "stream",
     "text": [
      "Epoch 1/100\n"
     ]
    },
    {
     "name": "stderr",
     "output_type": "stream",
     "text": [
      "2023-04-23 08:39:33.697078: I tensorflow/core/common_runtime/executor.cc:1197] [/device:CPU:0] (DEBUG INFO) Executor start aborting (this does not indicate an error and you can ignore this message): INVALID_ARGUMENT: You must feed a value for placeholder tensor 'Placeholder/_4' with dtype float and shape [10000,28,28,1]\n",
      "\t [[{{node Placeholder/_4}}]]\n",
      "2023-04-23 08:39:33.697385: I tensorflow/core/common_runtime/executor.cc:1197] [/device:CPU:0] (DEBUG INFO) Executor start aborting (this does not indicate an error and you can ignore this message): INVALID_ARGUMENT: You must feed a value for placeholder tensor 'Placeholder/_4' with dtype float and shape [10000,28,28,1]\n",
      "\t [[{{node Placeholder/_4}}]]\n"
     ]
    },
    {
     "name": "stdout",
     "output_type": "stream",
     "text": [
      "WARNING:tensorflow:From /home/juan/anaconda3/envs/feedforward/lib/python3.10/site-packages/tensorflow_probability/python/distributions/distribution.py:342: calling MultivariateNormalDiag.__init__ (from tensorflow_probability.python.distributions.mvn_diag) with scale_identity_multiplier is deprecated and will be removed after 2020-01-01.\n",
      "Instructions for updating:\n",
      "`scale_identity_multiplier` is deprecated; please combine it into `scale_diag` directly instead.\n",
      " 8/39 [=====>........................] - ETA: 31s - loss: 656453.4102"
     ]
    },
    {
     "ename": "KeyboardInterrupt",
     "evalue": "",
     "output_type": "error",
     "traceback": [
      "\u001b[0;31m---------------------------------------------------------------------------\u001b[0m",
      "\u001b[0;31mKeyboardInterrupt\u001b[0m                         Traceback (most recent call last)",
      "Cell \u001b[0;32mIn[12], line 1\u001b[0m\n\u001b[0;32m----> 1\u001b[0m \u001b[43mmodel\u001b[49m\u001b[38;5;241;43m.\u001b[39;49m\u001b[43mfit\u001b[49m\u001b[43m(\u001b[49m\u001b[43mdata\u001b[49m\u001b[38;5;241;43m=\u001b[39;49m\u001b[43mdata\u001b[49m\u001b[43m,\u001b[49m\u001b[43m \u001b[49m\u001b[43mepochs\u001b[49m\u001b[38;5;241;43m=\u001b[39;49m\u001b[38;5;241;43m100\u001b[39;49m\u001b[43m,\u001b[49m\u001b[43m \u001b[49m\u001b[43mbatch_size\u001b[49m\u001b[38;5;241;43m=\u001b[39;49m\u001b[38;5;241;43m256\u001b[39;49m\u001b[43m)\u001b[49m\n",
      "File \u001b[0;32m~/code/python/lpae/src/autoencoders.py:215\u001b[0m, in \u001b[0;36mLPAE.fit\u001b[0;34m(self, data, batch_size, shuffle_buffer_size, **kwargs)\u001b[0m\n\u001b[1;32m    211\u001b[0m \u001b[38;5;28mself\u001b[39m\u001b[38;5;241m.\u001b[39m_latent_var_batch \u001b[38;5;241m=\u001b[39m tf\u001b[38;5;241m.\u001b[39mVariable(initial_value\u001b[38;5;241m=\u001b[39mtf\u001b[38;5;241m.\u001b[39mzeros(\n\u001b[1;32m    212\u001b[0m     shape\u001b[38;5;241m=\u001b[39m(\u001b[38;5;28mself\u001b[39m\u001b[38;5;241m.\u001b[39m_n_particles \u001b[38;5;241m*\u001b[39m \u001b[38;5;28mself\u001b[39m\u001b[38;5;241m.\u001b[39m_train_batch_size,\n\u001b[1;32m    213\u001b[0m            \u001b[38;5;28mself\u001b[39m\u001b[38;5;241m.\u001b[39m_latent_dimensions)))\n\u001b[1;32m    214\u001b[0m \u001b[38;5;66;03m# Run normal fit:\u001b[39;00m\n\u001b[0;32m--> 215\u001b[0m \u001b[38;5;28;01mreturn\u001b[39;00m \u001b[38;5;28;43msuper\u001b[39;49m\u001b[43m(\u001b[49m\u001b[43m)\u001b[49m\u001b[38;5;241;43m.\u001b[39;49m\u001b[43mfit\u001b[49m\u001b[43m(\u001b[49m\u001b[43mx\u001b[49m\u001b[38;5;241;43m=\u001b[39;49m\u001b[43mdata\u001b[49m\u001b[43m,\u001b[49m\u001b[43m \u001b[49m\u001b[38;5;241;43m*\u001b[39;49m\u001b[38;5;241;43m*\u001b[39;49m\u001b[43mkwargs\u001b[49m\u001b[43m)\u001b[49m\n",
      "File \u001b[0;32m~/anaconda3/envs/feedforward/lib/python3.10/site-packages/keras/utils/traceback_utils.py:65\u001b[0m, in \u001b[0;36mfilter_traceback.<locals>.error_handler\u001b[0;34m(*args, **kwargs)\u001b[0m\n\u001b[1;32m     63\u001b[0m filtered_tb \u001b[38;5;241m=\u001b[39m \u001b[38;5;28;01mNone\u001b[39;00m\n\u001b[1;32m     64\u001b[0m \u001b[38;5;28;01mtry\u001b[39;00m:\n\u001b[0;32m---> 65\u001b[0m     \u001b[38;5;28;01mreturn\u001b[39;00m \u001b[43mfn\u001b[49m\u001b[43m(\u001b[49m\u001b[38;5;241;43m*\u001b[39;49m\u001b[43margs\u001b[49m\u001b[43m,\u001b[49m\u001b[43m \u001b[49m\u001b[38;5;241;43m*\u001b[39;49m\u001b[38;5;241;43m*\u001b[39;49m\u001b[43mkwargs\u001b[49m\u001b[43m)\u001b[49m\n\u001b[1;32m     66\u001b[0m \u001b[38;5;28;01mexcept\u001b[39;00m \u001b[38;5;167;01mException\u001b[39;00m \u001b[38;5;28;01mas\u001b[39;00m e:\n\u001b[1;32m     67\u001b[0m     filtered_tb \u001b[38;5;241m=\u001b[39m _process_traceback_frames(e\u001b[38;5;241m.\u001b[39m__traceback__)\n",
      "File \u001b[0;32m~/anaconda3/envs/feedforward/lib/python3.10/site-packages/keras/engine/training.py:1685\u001b[0m, in \u001b[0;36mModel.fit\u001b[0;34m(self, x, y, batch_size, epochs, verbose, callbacks, validation_split, validation_data, shuffle, class_weight, sample_weight, initial_epoch, steps_per_epoch, validation_steps, validation_batch_size, validation_freq, max_queue_size, workers, use_multiprocessing)\u001b[0m\n\u001b[1;32m   1677\u001b[0m \u001b[38;5;28;01mwith\u001b[39;00m tf\u001b[38;5;241m.\u001b[39mprofiler\u001b[38;5;241m.\u001b[39mexperimental\u001b[38;5;241m.\u001b[39mTrace(\n\u001b[1;32m   1678\u001b[0m     \u001b[38;5;124m\"\u001b[39m\u001b[38;5;124mtrain\u001b[39m\u001b[38;5;124m\"\u001b[39m,\n\u001b[1;32m   1679\u001b[0m     epoch_num\u001b[38;5;241m=\u001b[39mepoch,\n\u001b[0;32m   (...)\u001b[0m\n\u001b[1;32m   1682\u001b[0m     _r\u001b[38;5;241m=\u001b[39m\u001b[38;5;241m1\u001b[39m,\n\u001b[1;32m   1683\u001b[0m ):\n\u001b[1;32m   1684\u001b[0m     callbacks\u001b[38;5;241m.\u001b[39mon_train_batch_begin(step)\n\u001b[0;32m-> 1685\u001b[0m     tmp_logs \u001b[38;5;241m=\u001b[39m \u001b[38;5;28;43mself\u001b[39;49m\u001b[38;5;241;43m.\u001b[39;49m\u001b[43mtrain_function\u001b[49m\u001b[43m(\u001b[49m\u001b[43miterator\u001b[49m\u001b[43m)\u001b[49m\n\u001b[1;32m   1686\u001b[0m     \u001b[38;5;28;01mif\u001b[39;00m data_handler\u001b[38;5;241m.\u001b[39mshould_sync:\n\u001b[1;32m   1687\u001b[0m         context\u001b[38;5;241m.\u001b[39masync_wait()\n",
      "File \u001b[0;32m~/anaconda3/envs/feedforward/lib/python3.10/site-packages/tensorflow/python/util/traceback_utils.py:150\u001b[0m, in \u001b[0;36mfilter_traceback.<locals>.error_handler\u001b[0;34m(*args, **kwargs)\u001b[0m\n\u001b[1;32m    148\u001b[0m filtered_tb \u001b[38;5;241m=\u001b[39m \u001b[38;5;28;01mNone\u001b[39;00m\n\u001b[1;32m    149\u001b[0m \u001b[38;5;28;01mtry\u001b[39;00m:\n\u001b[0;32m--> 150\u001b[0m   \u001b[38;5;28;01mreturn\u001b[39;00m \u001b[43mfn\u001b[49m\u001b[43m(\u001b[49m\u001b[38;5;241;43m*\u001b[39;49m\u001b[43margs\u001b[49m\u001b[43m,\u001b[49m\u001b[43m \u001b[49m\u001b[38;5;241;43m*\u001b[39;49m\u001b[38;5;241;43m*\u001b[39;49m\u001b[43mkwargs\u001b[49m\u001b[43m)\u001b[49m\n\u001b[1;32m    151\u001b[0m \u001b[38;5;28;01mexcept\u001b[39;00m \u001b[38;5;167;01mException\u001b[39;00m \u001b[38;5;28;01mas\u001b[39;00m e:\n\u001b[1;32m    152\u001b[0m   filtered_tb \u001b[38;5;241m=\u001b[39m _process_traceback_frames(e\u001b[38;5;241m.\u001b[39m__traceback__)\n",
      "File \u001b[0;32m~/anaconda3/envs/feedforward/lib/python3.10/site-packages/tensorflow/python/eager/polymorphic_function/polymorphic_function.py:894\u001b[0m, in \u001b[0;36mFunction.__call__\u001b[0;34m(self, *args, **kwds)\u001b[0m\n\u001b[1;32m    891\u001b[0m compiler \u001b[38;5;241m=\u001b[39m \u001b[38;5;124m\"\u001b[39m\u001b[38;5;124mxla\u001b[39m\u001b[38;5;124m\"\u001b[39m \u001b[38;5;28;01mif\u001b[39;00m \u001b[38;5;28mself\u001b[39m\u001b[38;5;241m.\u001b[39m_jit_compile \u001b[38;5;28;01melse\u001b[39;00m \u001b[38;5;124m\"\u001b[39m\u001b[38;5;124mnonXla\u001b[39m\u001b[38;5;124m\"\u001b[39m\n\u001b[1;32m    893\u001b[0m \u001b[38;5;28;01mwith\u001b[39;00m OptionalXlaContext(\u001b[38;5;28mself\u001b[39m\u001b[38;5;241m.\u001b[39m_jit_compile):\n\u001b[0;32m--> 894\u001b[0m   result \u001b[38;5;241m=\u001b[39m \u001b[38;5;28;43mself\u001b[39;49m\u001b[38;5;241;43m.\u001b[39;49m\u001b[43m_call\u001b[49m\u001b[43m(\u001b[49m\u001b[38;5;241;43m*\u001b[39;49m\u001b[43margs\u001b[49m\u001b[43m,\u001b[49m\u001b[43m \u001b[49m\u001b[38;5;241;43m*\u001b[39;49m\u001b[38;5;241;43m*\u001b[39;49m\u001b[43mkwds\u001b[49m\u001b[43m)\u001b[49m\n\u001b[1;32m    896\u001b[0m new_tracing_count \u001b[38;5;241m=\u001b[39m \u001b[38;5;28mself\u001b[39m\u001b[38;5;241m.\u001b[39mexperimental_get_tracing_count()\n\u001b[1;32m    897\u001b[0m without_tracing \u001b[38;5;241m=\u001b[39m (tracing_count \u001b[38;5;241m==\u001b[39m new_tracing_count)\n",
      "File \u001b[0;32m~/anaconda3/envs/feedforward/lib/python3.10/site-packages/tensorflow/python/eager/polymorphic_function/polymorphic_function.py:926\u001b[0m, in \u001b[0;36mFunction._call\u001b[0;34m(self, *args, **kwds)\u001b[0m\n\u001b[1;32m    923\u001b[0m   \u001b[38;5;28mself\u001b[39m\u001b[38;5;241m.\u001b[39m_lock\u001b[38;5;241m.\u001b[39mrelease()\n\u001b[1;32m    924\u001b[0m   \u001b[38;5;66;03m# In this case we have created variables on the first call, so we run the\u001b[39;00m\n\u001b[1;32m    925\u001b[0m   \u001b[38;5;66;03m# defunned version which is guaranteed to never create variables.\u001b[39;00m\n\u001b[0;32m--> 926\u001b[0m   \u001b[38;5;28;01mreturn\u001b[39;00m \u001b[38;5;28;43mself\u001b[39;49m\u001b[38;5;241;43m.\u001b[39;49m\u001b[43m_no_variable_creation_fn\u001b[49m\u001b[43m(\u001b[49m\u001b[38;5;241;43m*\u001b[39;49m\u001b[43margs\u001b[49m\u001b[43m,\u001b[49m\u001b[43m \u001b[49m\u001b[38;5;241;43m*\u001b[39;49m\u001b[38;5;241;43m*\u001b[39;49m\u001b[43mkwds\u001b[49m\u001b[43m)\u001b[49m  \u001b[38;5;66;03m# pylint: disable=not-callable\u001b[39;00m\n\u001b[1;32m    927\u001b[0m \u001b[38;5;28;01melif\u001b[39;00m \u001b[38;5;28mself\u001b[39m\u001b[38;5;241m.\u001b[39m_variable_creation_fn \u001b[38;5;129;01mis\u001b[39;00m \u001b[38;5;129;01mnot\u001b[39;00m \u001b[38;5;28;01mNone\u001b[39;00m:\n\u001b[1;32m    928\u001b[0m   \u001b[38;5;66;03m# Release the lock early so that multiple threads can perform the call\u001b[39;00m\n\u001b[1;32m    929\u001b[0m   \u001b[38;5;66;03m# in parallel.\u001b[39;00m\n\u001b[1;32m    930\u001b[0m   \u001b[38;5;28mself\u001b[39m\u001b[38;5;241m.\u001b[39m_lock\u001b[38;5;241m.\u001b[39mrelease()\n",
      "File \u001b[0;32m~/anaconda3/envs/feedforward/lib/python3.10/site-packages/tensorflow/python/eager/polymorphic_function/tracing_compiler.py:143\u001b[0m, in \u001b[0;36mTracingCompiler.__call__\u001b[0;34m(self, *args, **kwargs)\u001b[0m\n\u001b[1;32m    140\u001b[0m \u001b[38;5;28;01mwith\u001b[39;00m \u001b[38;5;28mself\u001b[39m\u001b[38;5;241m.\u001b[39m_lock:\n\u001b[1;32m    141\u001b[0m   (concrete_function,\n\u001b[1;32m    142\u001b[0m    filtered_flat_args) \u001b[38;5;241m=\u001b[39m \u001b[38;5;28mself\u001b[39m\u001b[38;5;241m.\u001b[39m_maybe_define_function(args, kwargs)\n\u001b[0;32m--> 143\u001b[0m \u001b[38;5;28;01mreturn\u001b[39;00m \u001b[43mconcrete_function\u001b[49m\u001b[38;5;241;43m.\u001b[39;49m\u001b[43m_call_flat\u001b[49m\u001b[43m(\u001b[49m\n\u001b[1;32m    144\u001b[0m \u001b[43m    \u001b[49m\u001b[43mfiltered_flat_args\u001b[49m\u001b[43m,\u001b[49m\u001b[43m \u001b[49m\u001b[43mcaptured_inputs\u001b[49m\u001b[38;5;241;43m=\u001b[39;49m\u001b[43mconcrete_function\u001b[49m\u001b[38;5;241;43m.\u001b[39;49m\u001b[43mcaptured_inputs\u001b[49m\u001b[43m)\u001b[49m\n",
      "File \u001b[0;32m~/anaconda3/envs/feedforward/lib/python3.10/site-packages/tensorflow/python/eager/polymorphic_function/monomorphic_function.py:1757\u001b[0m, in \u001b[0;36mConcreteFunction._call_flat\u001b[0;34m(self, args, captured_inputs, cancellation_manager)\u001b[0m\n\u001b[1;32m   1753\u001b[0m possible_gradient_type \u001b[38;5;241m=\u001b[39m gradients_util\u001b[38;5;241m.\u001b[39mPossibleTapeGradientTypes(args)\n\u001b[1;32m   1754\u001b[0m \u001b[38;5;28;01mif\u001b[39;00m (possible_gradient_type \u001b[38;5;241m==\u001b[39m gradients_util\u001b[38;5;241m.\u001b[39mPOSSIBLE_GRADIENT_TYPES_NONE\n\u001b[1;32m   1755\u001b[0m     \u001b[38;5;129;01mand\u001b[39;00m executing_eagerly):\n\u001b[1;32m   1756\u001b[0m   \u001b[38;5;66;03m# No tape is watching; skip to running the function.\u001b[39;00m\n\u001b[0;32m-> 1757\u001b[0m   \u001b[38;5;28;01mreturn\u001b[39;00m \u001b[38;5;28mself\u001b[39m\u001b[38;5;241m.\u001b[39m_build_call_outputs(\u001b[38;5;28;43mself\u001b[39;49m\u001b[38;5;241;43m.\u001b[39;49m\u001b[43m_inference_function\u001b[49m\u001b[38;5;241;43m.\u001b[39;49m\u001b[43mcall\u001b[49m\u001b[43m(\u001b[49m\n\u001b[1;32m   1758\u001b[0m \u001b[43m      \u001b[49m\u001b[43mctx\u001b[49m\u001b[43m,\u001b[49m\u001b[43m \u001b[49m\u001b[43margs\u001b[49m\u001b[43m,\u001b[49m\u001b[43m \u001b[49m\u001b[43mcancellation_manager\u001b[49m\u001b[38;5;241;43m=\u001b[39;49m\u001b[43mcancellation_manager\u001b[49m\u001b[43m)\u001b[49m)\n\u001b[1;32m   1759\u001b[0m forward_backward \u001b[38;5;241m=\u001b[39m \u001b[38;5;28mself\u001b[39m\u001b[38;5;241m.\u001b[39m_select_forward_and_backward_functions(\n\u001b[1;32m   1760\u001b[0m     args,\n\u001b[1;32m   1761\u001b[0m     possible_gradient_type,\n\u001b[1;32m   1762\u001b[0m     executing_eagerly)\n\u001b[1;32m   1763\u001b[0m forward_function, args_with_tangents \u001b[38;5;241m=\u001b[39m forward_backward\u001b[38;5;241m.\u001b[39mforward()\n",
      "File \u001b[0;32m~/anaconda3/envs/feedforward/lib/python3.10/site-packages/tensorflow/python/eager/polymorphic_function/monomorphic_function.py:381\u001b[0m, in \u001b[0;36m_EagerDefinedFunction.call\u001b[0;34m(self, ctx, args, cancellation_manager)\u001b[0m\n\u001b[1;32m    379\u001b[0m \u001b[38;5;28;01mwith\u001b[39;00m _InterpolateFunctionError(\u001b[38;5;28mself\u001b[39m):\n\u001b[1;32m    380\u001b[0m   \u001b[38;5;28;01mif\u001b[39;00m cancellation_manager \u001b[38;5;129;01mis\u001b[39;00m \u001b[38;5;28;01mNone\u001b[39;00m:\n\u001b[0;32m--> 381\u001b[0m     outputs \u001b[38;5;241m=\u001b[39m \u001b[43mexecute\u001b[49m\u001b[38;5;241;43m.\u001b[39;49m\u001b[43mexecute\u001b[49m\u001b[43m(\u001b[49m\n\u001b[1;32m    382\u001b[0m \u001b[43m        \u001b[49m\u001b[38;5;28;43mstr\u001b[39;49m\u001b[43m(\u001b[49m\u001b[38;5;28;43mself\u001b[39;49m\u001b[38;5;241;43m.\u001b[39;49m\u001b[43msignature\u001b[49m\u001b[38;5;241;43m.\u001b[39;49m\u001b[43mname\u001b[49m\u001b[43m)\u001b[49m\u001b[43m,\u001b[49m\n\u001b[1;32m    383\u001b[0m \u001b[43m        \u001b[49m\u001b[43mnum_outputs\u001b[49m\u001b[38;5;241;43m=\u001b[39;49m\u001b[38;5;28;43mself\u001b[39;49m\u001b[38;5;241;43m.\u001b[39;49m\u001b[43m_num_outputs\u001b[49m\u001b[43m,\u001b[49m\n\u001b[1;32m    384\u001b[0m \u001b[43m        \u001b[49m\u001b[43minputs\u001b[49m\u001b[38;5;241;43m=\u001b[39;49m\u001b[43margs\u001b[49m\u001b[43m,\u001b[49m\n\u001b[1;32m    385\u001b[0m \u001b[43m        \u001b[49m\u001b[43mattrs\u001b[49m\u001b[38;5;241;43m=\u001b[39;49m\u001b[43mattrs\u001b[49m\u001b[43m,\u001b[49m\n\u001b[1;32m    386\u001b[0m \u001b[43m        \u001b[49m\u001b[43mctx\u001b[49m\u001b[38;5;241;43m=\u001b[39;49m\u001b[43mctx\u001b[49m\u001b[43m)\u001b[49m\n\u001b[1;32m    387\u001b[0m   \u001b[38;5;28;01melse\u001b[39;00m:\n\u001b[1;32m    388\u001b[0m     outputs \u001b[38;5;241m=\u001b[39m execute\u001b[38;5;241m.\u001b[39mexecute_with_cancellation(\n\u001b[1;32m    389\u001b[0m         \u001b[38;5;28mstr\u001b[39m(\u001b[38;5;28mself\u001b[39m\u001b[38;5;241m.\u001b[39msignature\u001b[38;5;241m.\u001b[39mname),\n\u001b[1;32m    390\u001b[0m         num_outputs\u001b[38;5;241m=\u001b[39m\u001b[38;5;28mself\u001b[39m\u001b[38;5;241m.\u001b[39m_num_outputs,\n\u001b[0;32m   (...)\u001b[0m\n\u001b[1;32m    393\u001b[0m         ctx\u001b[38;5;241m=\u001b[39mctx,\n\u001b[1;32m    394\u001b[0m         cancellation_manager\u001b[38;5;241m=\u001b[39mcancellation_manager)\n",
      "File \u001b[0;32m~/anaconda3/envs/feedforward/lib/python3.10/site-packages/tensorflow/python/eager/execute.py:52\u001b[0m, in \u001b[0;36mquick_execute\u001b[0;34m(op_name, num_outputs, inputs, attrs, ctx, name)\u001b[0m\n\u001b[1;32m     50\u001b[0m \u001b[38;5;28;01mtry\u001b[39;00m:\n\u001b[1;32m     51\u001b[0m   ctx\u001b[38;5;241m.\u001b[39mensure_initialized()\n\u001b[0;32m---> 52\u001b[0m   tensors \u001b[38;5;241m=\u001b[39m \u001b[43mpywrap_tfe\u001b[49m\u001b[38;5;241;43m.\u001b[39;49m\u001b[43mTFE_Py_Execute\u001b[49m\u001b[43m(\u001b[49m\u001b[43mctx\u001b[49m\u001b[38;5;241;43m.\u001b[39;49m\u001b[43m_handle\u001b[49m\u001b[43m,\u001b[49m\u001b[43m \u001b[49m\u001b[43mdevice_name\u001b[49m\u001b[43m,\u001b[49m\u001b[43m \u001b[49m\u001b[43mop_name\u001b[49m\u001b[43m,\u001b[49m\n\u001b[1;32m     53\u001b[0m \u001b[43m                                      \u001b[49m\u001b[43minputs\u001b[49m\u001b[43m,\u001b[49m\u001b[43m \u001b[49m\u001b[43mattrs\u001b[49m\u001b[43m,\u001b[49m\u001b[43m \u001b[49m\u001b[43mnum_outputs\u001b[49m\u001b[43m)\u001b[49m\n\u001b[1;32m     54\u001b[0m \u001b[38;5;28;01mexcept\u001b[39;00m core\u001b[38;5;241m.\u001b[39m_NotOkStatusException \u001b[38;5;28;01mas\u001b[39;00m e:\n\u001b[1;32m     55\u001b[0m   \u001b[38;5;28;01mif\u001b[39;00m name \u001b[38;5;129;01mis\u001b[39;00m \u001b[38;5;129;01mnot\u001b[39;00m \u001b[38;5;28;01mNone\u001b[39;00m:\n",
      "\u001b[0;31mKeyboardInterrupt\u001b[0m: "
     ]
    }
   ],
   "source": [
    "model.fit(data=data, epochs=100, batch_size=256)  "
   ]
  },
  {
   "cell_type": "markdown",
   "metadata": {},
   "source": [
    "## Saving and loading the model\n",
    "\n",
    "It's easy to save the fitted model so we don't have to re-train it every time we run this notebook:"
   ]
  },
  {
   "cell_type": "code",
   "execution_count": null,
   "metadata": {},
   "outputs": [],
   "source": [
    "if COLAB:\n",
    "    # Set save directory in Google drive so that it's persistent across notebook re-starts:\n",
    "    CHECKPOINT_PATH = 'gdrive/MyDrivec/lpae_ckpts/checkpoint_0/'\n",
    "else:\n",
    "    CHECKPOINT_PATH = REPOSITORY_PATH + '/ckpts/checkpoint_0/'\n",
    "model.save(CHECKPOINT_PATH)"
   ]
  },
  {
   "cell_type": "markdown",
   "metadata": {},
   "source": [
    "To load it, use the from_save constructor method:"
   ]
  },
  {
   "cell_type": "code",
   "execution_count": null,
   "metadata": {},
   "outputs": [],
   "source": [
    "del model\n",
    "model = LPAE.from_save(CHECKPOINT_PATH)"
   ]
  },
  {
   "cell_type": "markdown",
   "metadata": {
    "id": "yjUPB2vi5xKU"
   },
   "source": [
    "# Inference\n",
    "\n",
    "We've fitted the model to the dataset, so what can we do with it? Before answering that question, let's first get a bit more of a feel for how the model works. "
   ]
  },
  {
   "cell_type": "markdown",
   "metadata": {
    "id": "NvtClv5R3xBe",
    "tags": []
   },
   "source": [
    "## Visualizing the posterior approximation\n",
    "\n",
    "As discussed in the [docs](https://lpae.readthedocs.io/en/latest/) (in what follows, we use the notation introduced there), the model assumes that each image $y^m$ in our training set was generated by mapping a vector of latent variables $x^m$ to the image space via the decoder $f_{\\Theta_K}:\\mathbb{R}^{32}\\to\\mathbb{R}^{28\\times28}$ (and adding a bit of Gaussian noise). It doesn't pressume to know what $x^m$ is and instead offers $N:=10$ guesses it deems equally as likely: $X^{1,m}_K,\\dots, X^{N,m}_K$ which we refer to as 'particles'. We can visualize by plotting them their coordinates one at a time:"
   ]
  },
  {
   "cell_type": "code",
   "execution_count": null,
   "metadata": {
    "colab": {
     "base_uri": "https://localhost:8080/",
     "height": 1000
    },
    "id": "QEEQRcyzOhY7",
    "outputId": "f7bf91b8-ac14-4a00-9aac-ef895445d0a3"
   },
   "outputs": [],
   "source": [
    "i = 0\n",
    "\n",
    "# Get particles for the ith image:\n",
    "particles = model.get_particles(index_batch=[i])[0, :, :]\n",
    "\n",
    "# Plot them:\n",
    "plt.figure(figsize=(16, 16))\n",
    "grid_size = math.ceil(latent_dimensions ** (1/2))\n",
    "for j in range(latent_dimensions):\n",
    "    ax = plt.subplot(8, 4, j + 1)\n",
    "    ax.set_title(f'Latent variable {j + 1}')\n",
    "    ax.get_yaxis().set_visible(False)\n",
    "    plt.stem(particles[:, j].numpy(), np.ones(10))\n",
    "plt.gcf().tight_layout()   \n",
    "print(f'                                 Particles for image {i}.')\n",
    "print('==================================================================================')\n",
    "plt.show()"
   ]
  },
  {
   "cell_type": "markdown",
   "metadata": {
    "id": "rm5AIoeYOhY7"
   },
   "source": [
    "Equivalently, we can think of the model returning, for each image $y^m$, a distribution over the possible values of $x^m$ defined by the empirical distribution of these particles: $N^{-1}\\sum_{n=1}^N\\delta_{X_K^{n,m}}$. We can visualize this distribution by examining it's marginals (and with the help of a KDE):"
   ]
  },
  {
   "cell_type": "code",
   "execution_count": null,
   "metadata": {
    "colab": {
     "base_uri": "https://localhost:8080/",
     "height": 1000
    },
    "id": "WgO93h5XOhY7",
    "outputId": "b25ed804-f202-4ce1-dc15-b234a2025070"
   },
   "outputs": [],
   "source": [
    "# Plot them:\n",
    "plt.figure(figsize=(16, 16))\n",
    "grid_size = math.ceil(latent_dimensions ** (1/2))\n",
    "for j in range(latent_dimensions):\n",
    "    ax = plt.subplot(8, 4, j + 1)\n",
    "    ax.set_title(f'Latent variable {j + 1}')\n",
    "    ax.get_yaxis().set_visible(False)\n",
    "    sns.kdeplot(particles[:, j].numpy(), ax=ax)\n",
    "plt.gcf().tight_layout()    \n",
    "plt.show()"
   ]
  },
  {
   "cell_type": "markdown",
   "metadata": {
    "id": "mIuw5tU7OhY8"
   },
   "source": [
    "We refer to this distribution as an 'approximate posterior' because it approximates \n",
    "\n",
    "$$p_{\\Theta_K}(x^m|y^m)=\\frac{p_{\\Theta_K}(x^m,y^m)}{p_{\\Theta_K}(y^m)}.$$"
   ]
  },
  {
   "cell_type": "markdown",
   "metadata": {
    "id": "YHExIBeuOhY8"
   },
   "source": [
    "While the distribution doesn't look particularly peaked, it's pushforward through the decoder is actually very peaked around the training image $y^m$. In other words, mapping any of the particles through the decoder we get an image almost indistinguishable from $y^m$:"
   ]
  },
  {
   "cell_type": "code",
   "execution_count": null,
   "metadata": {
    "colab": {
     "base_uri": "https://localhost:8080/",
     "height": 370
    },
    "id": "LS0F5gFC9fg2",
    "outputId": "3d6b972e-34af-4984-eeca-14d4c20ce978"
   },
   "outputs": [],
   "source": [
    "decoded_particles = model.decode_particles(index_batch=[i])\n",
    "names = ['Training image'] + [f'Dec(Particle {j+1})' \n",
    "                              for j in range(n_particles)]\n",
    "plot_images(tf.concat([x[i][tf.newaxis, ...], decoded_particles[0, ...]], axis=0), names)"
   ]
  },
  {
   "cell_type": "markdown",
   "metadata": {
    "id": "XoH0WJ8EOhY9"
   },
   "source": [
    "## Image representations "
   ]
  },
  {
   "cell_type": "markdown",
   "metadata": {},
   "source": [
    "In short, the model learns representations of MNIST images: the representation of the $m^{th}$ image being the corresponding set of particles $\\{X^{1,m}_K,\\dots, X_K^{N,m}\\}$. Or, equivalently, the particles' empirical distribution $N^{-1}\\sum_{n=1}^N\\delta_{X_K^{n,m}}$ or 'approximate posterior'.\n",
    "\n",
    "To visualize all of these representations, we can plot (the first $4$ princicple components of) all the particles. If we color each of these by the corresponding's image label we see that they, at least partially, cluster by label:\n",
    "\n",
    "<a id='visualize_particles'></a>"
   ]
  },
  {
   "cell_type": "code",
   "execution_count": null,
   "metadata": {
    "colab": {
     "base_uri": "https://localhost:8080/",
     "height": 1000
    },
    "id": "mosPop8iOhY9",
    "outputId": "c8011001-29a1-4325-f2ee-6c6f32859e1c",
    "tags": []
   },
   "outputs": [],
   "source": [
    "particles = pd.DataFrame(model.flatten_particles(model.get_particles()).numpy(),\n",
    "                         columns=[f'Latent variable {i}' for i in range(latent_dimensions)])\n",
    "particles_pca = PCA(n_components=4).set_output(transform='pandas').fit_transform(particles)\n",
    "particles_pca['label'] = np.repeat(y, n_particles)\n",
    "sns.pairplot(particles_pca, hue='label', palette='deep', plot_kws={'s': 0.5})"
   ]
  },
  {
   "cell_type": "markdown",
   "metadata": {},
   "source": [
    "In particular, we can train a classifier on these representations to predict the image's label. However, for this simple dataset, a naive classifier trained on the raw image data does quite well and we don't gain anything by training it on the representations (in fact, we lose some, see the end of the notebook)."
   ]
  },
  {
   "cell_type": "markdown",
   "metadata": {},
   "source": [
    "## Interpolating images in a semantically meaningful way\n",
    "\n",
    "These representations, however, let us do certain things we'd struggle to do with the original data. For instance, if linearly interpolate between two images, we just get a series of intermediate images were the first image fades out and the second fades in:"
   ]
  },
  {
   "cell_type": "code",
   "execution_count": null,
   "metadata": {},
   "outputs": [],
   "source": [
    "i, j = 0, 1\n",
    "plot_images(tf.stack([(1 - t) * x[i] + t * x[j] for t in np.linspace(0, 1, 11)]))"
   ]
  },
  {
   "cell_type": "markdown",
   "metadata": {},
   "source": [
    "On the other hand, if for each image, we pick a particle, linearly interpolate between the two particles, and map the intermediate particles through the decoder, we get a semantically meaningful interpolation between to two images:"
   ]
  },
  {
   "cell_type": "code",
   "execution_count": null,
   "metadata": {},
   "outputs": [],
   "source": [
    "particle_i = model.get_particles((i,), 1)\n",
    "particle_j = model.get_particles((j,), 1)\n",
    "plot_images(model.decode(tf.concat([(1 - t) * particle_i + t * particle_j  for t in np.linspace(0, 1, 11)], axis=0))[:, 0,...])"
   ]
  },
  {
   "cell_type": "markdown",
   "metadata": {},
   "source": [
    "## Generating fakes\n",
    "\n",
    "Similarly, if we fit a mixture of Gaussians to the collection of all particles visualized [above](#visualize_particles), draw latent variables from this mixture, and push them through the decoder, we get 'fakes' that look like the images in our training set:"
   ]
  },
  {
   "cell_type": "code",
   "execution_count": null,
   "metadata": {},
   "outputs": [],
   "source": [
    "n_fakes = 64\n",
    "fakes = model.generate_fakes(n_fakes=n_fakes)\n",
    "plot_images(fakes)"
   ]
  },
  {
   "cell_type": "markdown",
   "metadata": {},
   "source": [
    "While some of these digits look like they were produced by someone with handwritting even worse than mine, they're still a lot better than what we get by sampling a mixture of Gaussian directly fit on the image data: "
   ]
  },
  {
   "cell_type": "code",
   "execution_count": null,
   "metadata": {},
   "outputs": [],
   "source": [
    "gmm_raw_data = GaussianMixture(n_components=100).fit(tf.reshape(x, [x.shape[0], x.shape[1] * x.shape[2]]).numpy())\n",
    "fakes_from_raw, _ = gmm_raw_data.sample(n_samples=n_fakes)\n",
    "plot_images(tf.reshape(fakes_from_raw, [n_fakes, 28, 28, 1]))"
   ]
  },
  {
   "cell_type": "markdown",
   "metadata": {
    "id": "-WUdprJ0OhY_"
   },
   "source": [
    "## What about images not in our training set?\n",
    "\n",
    "I've been avoiding a question: where did these particles come from? They are a by-product of the training procedure (see [here](https://lpae.readthedocs.io/en/latest/)) which involves $N$ of them per image in our training set. So what about images not in our training set? How do we get such particles and representations for them? We can just emulate what we do in the training and run one 'unadjusted Langevin algorithm' (ULA) chain per particle:\n",
    "\n",
    "$$X_{k+1}^{n}=X_{k}^{n}+h'\\nabla_x \\ell(\\Theta_K,X_{k}^{n})+\\sqrt{2h}W_{k}^{n}, \\quad\\forall k=0,\\dots,K'-1,\\, n=1,\\dots,N'$$\n",
    "\n",
    "where \n",
    "\n",
    "- $y$ denotes the image,\n",
    "- $\\Theta_K$ denotes the parameters learned during training, \n",
    "- $K'$ the number of steps we run the chains for,\n",
    "- $N'$ the number of particles we wish to generate,\n",
    "- $W_{1},\\dots, W_{K'}$ independent zero-mean unit-variance Gaussian random variables,\n",
    "- and $X_{K'}^1,\\dots, X_{K'}^n$ the particles we generate (with $X_0^1,\\dots,X_0^N$ independently drawn from $\\mathcal{N}(0,I)$).\n",
    "\n",
    "We can do this easily using the model's encode method:"
   ]
  },
  {
   "cell_type": "code",
   "execution_count": null,
   "metadata": {},
   "outputs": [],
   "source": [
    "model.encode(x_test[:3], n_steps=1000, step_size=1e-5, n_particles=2).shape"
   ]
  },
  {
   "cell_type": "markdown",
   "metadata": {
    "id": "XJdiXMJTQ7LB"
   },
   "source": [
    "## Recovering images corrupted with noise\n",
    "\n",
    "We can clean images that habe been corrupted with noise by encoding the corrupted images (in particular, producing a single-particle-representation of each image using `model.encode`) and then decoding:"
   ]
  },
  {
   "cell_type": "code",
   "execution_count": null,
   "metadata": {
    "cellView": "form",
    "id": "ffbwBQ04RBMq"
   },
   "outputs": [],
   "source": [
    "#@title Definition of corrupt()\n",
    "def corrupt(images: tf.Tensor, noise_intensity: float = 0.3):\n",
    "    images += noise_intensity * 255 * tf.random.normal(shape=images.shape)\n",
    "    images *= 1 + noise_intensity * (tf.random.uniform(shape=images.shape) - 0.5)\n",
    "    return tf.minimum(tf.maximum(images, 0), 255)"
   ]
  },
  {
   "cell_type": "code",
   "execution_count": null,
   "metadata": {
    "colab": {
     "base_uri": "https://localhost:8080/",
     "height": 486
    },
    "id": "J6QE0m_1Q-cS",
    "outputId": "7abd1215-12a5-4e0e-a95d-78fb6f896627"
   },
   "outputs": [],
   "source": [
    "images = x_test[:3]\n",
    "corrupted = corrupt(images)\n",
    "reconstructed = model.decode(model.encode(corrupted))[:, 0, ...]  # equivalently: model(corrupted)\n",
    "names = sum([[f'Original {i + 1}', f'Corrupted {i + 1}', f'Cleaned {i + 1}']\n",
    "             for i in range(len(images))], [])\n",
    "interweaved = tf.reshape(tf.stack([images, corrupted, reconstructed], axis=1),\n",
    "                         (3 * len(images),) + images.shape[1:])\n",
    "plot_images(interweaved, names)"
   ]
  },
  {
   "cell_type": "markdown",
   "metadata": {
    "id": "7q9JnrZoOhZC"
   },
   "source": [
    "## Classifying the images\n",
    "\n",
    "Lastly, we can train a simple single-layer classifier for the images using the [above representations](#visualize_particles). Because each image's representation is an unordered set of $N$ particles, we share weights across the particles:"
   ]
  },
  {
   "cell_type": "code",
   "execution_count": null,
   "metadata": {
    "colab": {
     "base_uri": "https://localhost:8080/",
     "height": 186
    },
    "id": "xSNL2_MqOhZD",
    "outputId": "55ff6c16-f478-4e3b-d7ad-e86dd749b242",
    "tags": []
   },
   "outputs": [],
   "source": [
    "# Define classifier:\n",
    "inputs = [Input(shape=(latent_dimensions,), name=f'Particle {i + 1}') for i in range(n_particles)]\n",
    "fully_connected = Dense(10, input_shape=(latent_dimensions,), activation='softmax')\n",
    "h = [fully_connected(particle) for particle in inputs]\n",
    "output = Average()(h)\n",
    "clf_rep = Model(inputs=inputs, outputs=output)\n",
    "tf.keras.utils.plot_model(clf_rep)"
   ]
  },
  {
   "cell_type": "code",
   "execution_count": null,
   "metadata": {
    "colab": {
     "base_uri": "https://localhost:8080/"
    },
    "id": "Fjv49Z5xOhZE",
    "outputId": "f56451ed-317c-4957-e551-7e70c3dc5801",
    "tags": []
   },
   "outputs": [],
   "source": [
    "# Train classifier:\n",
    "particles = model.get_particles()\n",
    "clf_rep.compile(optimizer='adam',\n",
    "                loss=SparseCategoricalCrossentropy(),\n",
    "                metrics=['accuracy'])\n",
    "clf_rep.fit([particles[:, i, :] for i in range(n_particles)], y, epochs=50, validation_split=0.2, \n",
    "             callbacks=[EarlyStopping(monitor='val_loss', patience=3)])"
   ]
  },
  {
   "cell_type": "markdown",
   "metadata": {},
   "source": [
    "For this simple dataset a naive single-layer classifier trained on the raw image data does just as well: "
   ]
  },
  {
   "cell_type": "code",
   "execution_count": null,
   "metadata": {
    "id": "CWpvSKQdOhZE"
   },
   "outputs": [],
   "source": [
    "# On raw images:\n",
    "clf_raw = Sequential([Flatten(input_shape=(28, 28)), Dense(10)])\n",
    "clf_raw.compile(optimizer='adam',\n",
    "              loss=SparseCategoricalCrossentropy(from_logits=True),\n",
    "              metrics=['accuracy'])\n",
    "clf_raw.fit(x, y, epochs=50, validation_split=0.2, callbacks=[EarlyStopping(monitor='val_loss', patience=3, verbose=2)])"
   ]
  },
  {
   "cell_type": "markdown",
   "metadata": {},
   "source": [
    "However, the representation-based classifier is a lot more robust to corruption,"
   ]
  },
  {
   "cell_type": "code",
   "execution_count": null,
   "metadata": {},
   "outputs": [],
   "source": [
    "corrupted_test = corrupt(x_test)\n",
    "corrupted_test_enc = model.encode(corrupted_test, n_particles=n_particles)\n",
    "_ = clf_rep.evaluate([corrupted_test_enc[:, i, :] for i in range(n_particles)], y_test)"
   ]
  },
  {
   "cell_type": "markdown",
   "metadata": {},
   "source": [
    "than the naive classifier,"
   ]
  },
  {
   "cell_type": "code",
   "execution_count": null,
   "metadata": {},
   "outputs": [],
   "source": [
    "_ = clf_raw.evaluate(corrupted_test, y_test)"
   ]
  },
  {
   "cell_type": "code",
   "execution_count": null,
   "metadata": {},
   "outputs": [],
   "source": []
  }
 ],
 "metadata": {
  "accelerator": "GPU",
  "colab": {
   "collapsed_sections": [
    "Or0yIPwm9yvp"
   ],
   "include_colab_link": true,
   "provenance": []
  },
  "gpuClass": "standard",
  "kernelspec": {
   "display_name": "Python 3 (ipykernel)",
   "language": "python",
   "name": "python3"
  },
  "language_info": {
   "codemirror_mode": {
    "name": "ipython",
    "version": 3
   },
   "file_extension": ".py",
   "mimetype": "text/x-python",
   "name": "python",
   "nbconvert_exporter": "python",
   "pygments_lexer": "ipython3",
   "version": "3.10.9"
  }
 },
 "nbformat": 4,
 "nbformat_minor": 4
}
